{
 "cells": [
  {
   "cell_type": "markdown",
   "id": "7b777cbc",
   "metadata": {},
   "source": [
    "#Part C – Programming Task"
   ]
  },
  {
   "cell_type": "markdown",
   "id": "40167e02",
   "metadata": {},
   "source": [
    "A* search on maze\n"
   ]
  },
  {
   "cell_type": "code",
   "execution_count": null,
   "id": "5c9c9340",
   "metadata": {},
   "outputs": [],
   "source": [
    "\n",
    "import heapq\n",
    "import matplotlib.pyplot as plt\n",
    "import numpy as np\n",
    "\n",
    "\n",
    "def manhattan(a, b):\n",
    "    return abs(a[0]-b[0]) + abs(a[1]-b[1])\n",
    "\n",
    "def reconstruct_path(came_from, current):\n",
    "    path = [current]\n",
    "    while current in came_from:\n",
    "        current = came_from[current]\n",
    "        path.append(current)\n",
    "    path.reverse()\n",
    "    return path\n",
    "\n",
    "def get_neighbors(pos, maze):\n",
    "    r, c = pos\n",
    "    neighbors = []\n",
    "    moves = [(1,0), (-1,0), (0,1), (0,-1)]\n",
    "    for dr, dc in moves:\n",
    "        nr, nc = r+dr, c+dc\n",
    "        if 0<=nr<len(maze) and 0<=nc<len(maze[0]) and maze[nr][nc]!=1:\n",
    "            neighbors.append((nr,nc))\n",
    "    return neighbors"
   ]
  },
  {
   "cell_type": "markdown",
   "id": "7457167c",
   "metadata": {},
   "source": [
    "1. Implement A* search on a maze (given as a 2D matrix where 1=wall, 0=path, A=start,\n",
    "B=goal)."
   ]
  },
  {
   "cell_type": "code",
   "execution_count": null,
   "id": "a89ca7f2",
   "metadata": {},
   "outputs": [],
   "source": [
    "\n",
    "def astar(maze, start, goal, heuristic):\n",
    "    open_heap = []\n",
    "    counter = 0\n",
    "    g_score = {start:0}\n",
    "    f_score = {start: heuristic(start,goal)}\n",
    "    came_from = {}\n",
    "    heapq.heappush(open_heap,(f_score[start], counter, start))\n",
    "    closed = set()\n",
    "\n",
    "    while open_heap:\n",
    "        _, _, current = heapq.heappop(open_heap)\n",
    "        if current == goal:\n",
    "            return reconstruct_path(came_from,current), g_score[current]\n",
    "        closed.add(current)\n",
    "        for neighbor in get_neighbors(current, maze):\n",
    "            tentative_g = g_score[current]+1\n",
    "            if tentative_g < g_score.get(neighbor,float('inf')):\n",
    "                came_from[neighbor]=current\n",
    "                g_score[neighbor]=tentative_g\n",
    "                f_score[neighbor]=tentative_g+heuristic(neighbor,goal)\n",
    "                counter+=1\n",
    "                heapq.heappush(open_heap,(f_score[neighbor],counter,neighbor))\n",
    "    return None,float('inf')"
   ]
  },
  {
   "cell_type": "markdown",
   "id": "9826ce8f",
   "metadata": {},
   "source": [
    "- Visualize the path found."
   ]
  },
  {
   "cell_type": "code",
   "execution_count": null,
   "id": "de3c0e87",
   "metadata": {},
   "outputs": [],
   "source": [
    "\n",
    "def visualize_maze(maze, path=None):\n",
    "    cmap = plt.cm.get_cmap('gray_r')\n",
    "    maze_array = np.array([[1 if cell==1 else 0 for cell in row] for row in maze])\n",
    "    plt.imshow(maze_array,cmap=cmap)\n",
    "    for r in range(len(maze)):\n",
    "        for c in range(len(maze[0])):\n",
    "            if maze[r][c]=='A':\n",
    "                plt.text(c,r,'A',ha='center',va='center',color='green',fontsize=12,weight='bold')\n",
    "            elif maze[r][c]=='B':\n",
    "                plt.text(c,r,'B',ha='center',va='center',color='red',fontsize=12,weight='bold')\n",
    "    if path:\n",
    "        pr, pc = zip(*path)\n",
    "        plt.plot(pc, pr, color='blue', linewidth=2)\n",
    "    plt.gca().invert_yaxis()\n",
    "    plt.show()"
   ]
  },
  {
   "cell_type": "code",
   "execution_count": null,
   "id": "13f20655",
   "metadata": {},
   "outputs": [
    {
     "name": "stdout",
     "output_type": "stream",
     "text": [
      "Start: (2, 0) Goal: (2, 4)\n"
     ]
    }
   ],
   "source": [
    "\n",
    "maze = [\n",
    "    [0,0,0,0,0],\n",
    "    [1,1,0,1,0],\n",
    "    ['A',0,0,1,'B'],\n",
    "    [0,1,0,0,0],\n",
    "    [0,0,0,1,0]\n",
    "]\n",
    "start=None\n",
    "goal=None\n",
    "for r in range(len(maze)):\n",
    "    for c in range(len(maze[0])):\n",
    "        if maze[r][c]=='A':\n",
    "            start=(r,c)\n",
    "            maze[r][c]=0\n",
    "        elif maze[r][c]=='B':\n",
    "            goal=(r,c)\n",
    "            maze[r][c]=0\n",
    "print('Start:',start,'Goal:',goal)"
   ]
  },
  {
   "cell_type": "code",
   "execution_count": 5,
   "id": "223a5ab3",
   "metadata": {},
   "outputs": [
    {
     "name": "stdout",
     "output_type": "stream",
     "text": [
      "Case 1: Manhattan\n",
      "Path: [(2, 0), (2, 1), (2, 2), (3, 2), (3, 3), (3, 4), (2, 4)]\n",
      "Cost: 6\n"
     ]
    },
    {
     "name": "stderr",
     "output_type": "stream",
     "text": [
      "C:\\Users\\ASUS\\AppData\\Local\\Temp\\ipykernel_19208\\2708274670.py:3: MatplotlibDeprecationWarning: The get_cmap function was deprecated in Matplotlib 3.7 and will be removed in 3.11. Use ``matplotlib.colormaps[name]`` or ``matplotlib.colormaps.get_cmap()`` or ``pyplot.get_cmap()`` instead.\n",
      "  cmap = plt.cm.get_cmap('gray_r')\n"
     ]
    },
    {
     "data": {
      "image/png": "[encoded data removed]",
      "text/plain": [
       "<Figure size 640x480 with 1 Axes>"
      ]
     },
     "metadata": {},
     "output_type": "display_data"
    }
   ],
   "source": [
    "path,cost=astar(maze,start,goal,manhattan)\n",
    "print('Case 1: Manhattan')\n",
    "print('Path:',path)\n",
    "print('Cost:',cost)\n",
    "visualize_maze(maze,path)\n"
   ]
  },
  {
   "cell_type": "markdown",
   "id": "141c1f87",
   "metadata": {},
   "source": [
    "2. Modify the heuristic:\n"
   ]
  },
  {
   "cell_type": "markdown",
   "id": "5dfd361f",
   "metadata": {},
   "source": [
    "- Case 1: Multiply Manhattan distance by 1.5"
   ]
  },
  {
   "cell_type": "code",
   "execution_count": 6,
   "id": "6e5b8ea3",
   "metadata": {},
   "outputs": [
    {
     "name": "stdout",
     "output_type": "stream",
     "text": [
      "Case 2: Manhattan * 1.5\n",
      "Path: [(2, 0), (2, 1), (2, 2), (3, 2), (3, 3), (3, 4), (2, 4)]\n",
      "Cost: 6\n"
     ]
    },
    {
     "name": "stderr",
     "output_type": "stream",
     "text": [
      "C:\\Users\\ASUS\\AppData\\Local\\Temp\\ipykernel_19208\\2708274670.py:3: MatplotlibDeprecationWarning: The get_cmap function was deprecated in Matplotlib 3.7 and will be removed in 3.11. Use ``matplotlib.colormaps[name]`` or ``matplotlib.colormaps.get_cmap()`` or ``pyplot.get_cmap()`` instead.\n",
      "  cmap = plt.cm.get_cmap('gray_r')\n"
     ]
    },
    {
     "data": {
      "image/png": "[encoded data removed]",
      "text/plain": [
       "<Figure size 640x480 with 1 Axes>"
      ]
     },
     "metadata": {},
     "output_type": "display_data"
    }
   ],
   "source": [
    "def heuristic_scaled(a,b):\n",
    "    return 1.5*manhattan(a,b)\n",
    "path,cost=astar(maze,start,goal,heuristic_scaled)\n",
    "print('Case 2: Manhattan * 1.5')\n",
    "print('Path:',path)\n",
    "print('Cost:',cost)\n",
    "visualize_maze(maze,path)"
   ]
  },
  {
   "cell_type": "markdown",
   "id": "85b90832",
   "metadata": {},
   "source": [
    "- Case 2: Define heuristic so that for one edge it violates consistency."
   ]
  },
  {
   "cell_type": "code",
   "execution_count": 7,
   "id": "9324dd72",
   "metadata": {},
   "outputs": [
    {
     "name": "stdout",
     "output_type": "stream",
     "text": [
      "Case 3: Inconsistent Heuristic\n",
      "Path: [(2, 0), (3, 0), (4, 0), (4, 1), (4, 2), (3, 2), (3, 3), (3, 4), (2, 4)]\n",
      "Cost: 8\n"
     ]
    },
    {
     "name": "stderr",
     "output_type": "stream",
     "text": [
      "C:\\Users\\ASUS\\AppData\\Local\\Temp\\ipykernel_19208\\2708274670.py:3: MatplotlibDeprecationWarning: The get_cmap function was deprecated in Matplotlib 3.7 and will be removed in 3.11. Use ``matplotlib.colormaps[name]`` or ``matplotlib.colormaps.get_cmap()`` or ``pyplot.get_cmap()`` instead.\n",
      "  cmap = plt.cm.get_cmap('gray_r')\n"
     ]
    },
    {
     "data": {
      "image/png": "[encoded data removed]",
      "text/plain": [
       "<Figure size 640x480 with 1 Axes>"
      ]
     },
     "metadata": {},
     "output_type": "display_data"
    }
   ],
   "source": [
    "def heuristic_inconsistent(a,b):\n",
    "    h_val = manhattan(a,b)\n",
    "    if a==(2,1):\n",
    "        return h_val+5\n",
    "    return h_val\n",
    "path,cost=astar(maze,start,goal,heuristic_inconsistent)\n",
    "print('Case 3: Inconsistent Heuristic')\n",
    "print('Path:',path)\n",
    "print('Cost:',cost)\n",
    "visualize_maze(maze,path)"
   ]
  }
 ],
 "metadata": {
  "kernelspec": {
   "display_name": "Python 3",
   "language": "python",
   "name": "python3"
  },
  "language_info": {
   "codemirror_mode": {
    "name": "ipython",
    "version": 3
   },
   "file_extension": ".py",
   "mimetype": "text/x-python",
   "name": "python",
   "nbconvert_exporter": "python",
   "pygments_lexer": "ipython3",
   "version": "3.12.5"
  }
 },
 "nbformat": 4,
 "nbformat_minor": 5
}
