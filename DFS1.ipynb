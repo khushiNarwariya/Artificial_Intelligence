{
 "cells": [
  {
   "cell_type": "code",
   "execution_count": null,
   "id": "5cd7fa47",
   "metadata": {},
   "outputs": [],
   "source": [
    "graph = {\n",
    "    'A': ['B', 'C'],\n",
    "    'B': ['A', 'D', 'E'],\n",
    "    'C': ['A', 'F'],\n",
    "    'D': ['B'],\n",
    "    'E': ['B', 'F'],\n",
    "    'F': ['C', 'E']\n",
    "}\n",
    "\n",
    "def DFS(graph, start):\n",
    "    # Initialization\n",
    "    color = {u: \"WHITE\" for u in graph}\n",
    "    parent = {u: None for u in graph}\n",
    "    discovery_time = {u: None for u in graph}\n",
    "    finish_time = {u: None for u in graph}\n",
    "    time = [0]  # Using list to allow updates in recursion\n",
    "\n",
    "    def dfs_visit(u):\n",
    "        color[u] = \"GRAY\"\n",
    "        time[0] += 1\n",
    "        discovery_time[u] = time[0]\n",
    "        for v in graph[u]:\n",
    "            if color[v] == \"WHITE\":\n",
    "                parent[v] = u\n",
    "                dfs_visit(v)\n",
    "        color[u] = \"BLACK\"\n",
    "        time[0] += 1\n",
    "        finish_time[u] = time[0]\n",
    "\n",
    "    dfs_visit(start)\n",
    "    return discovery_time, finish_time, parent\n",
    "\n",
    "# Run DFS\n",
    "discovery, finish, parent = DFS(graph, 'A')\n",
    "\n",
    "print(\"Discovery times:\", discovery)\n",
    "print(\"Finish times:\", finish)\n",
    "print(\"Parents:\", parent)"
   ]
  }
 ],
 "metadata": {
  "language_info": {
   "name": "python"
  }
 },
 "nbformat": 4,
 "nbformat_minor": 5
}
