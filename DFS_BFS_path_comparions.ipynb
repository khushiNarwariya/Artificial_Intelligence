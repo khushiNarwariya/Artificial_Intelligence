{
 "cells": [
  {
   "cell_type": "code",
   "execution_count": 1,
   "id": "35c5ed8c",
   "metadata": {},
   "outputs": [],
   "source": [
    "import ast\n",
    "from collections import deque"
   ]
  },
  {
   "cell_type": "code",
   "execution_count": 2,
   "id": "60fdd7b8",
   "metadata": {},
   "outputs": [],
   "source": [
    "input_source = []"
   ]
  },
  {
   "cell_type": "code",
   "execution_count": 3,
   "id": "4bf2b598",
   "metadata": {},
   "outputs": [],
   "source": [
    "with open(\"input.txt\") as f:\n",
    "    for _ in range(3):\n",
    "        input_source.append(f.readline().strip().replace('\\n', ''))"
   ]
  },
  {
   "cell_type": "code",
   "execution_count": 4,
   "id": "64b658cf",
   "metadata": {},
   "outputs": [
    {
     "data": {
      "text/plain": [
       "[\"{'A': ['B', 'C'], 'B': ['D'], 'C': ['D', 'E'], 'D': ['F'], 'E': ['F'], 'F': []}\",\n",
       " 'A',\n",
       " 'F']"
      ]
     },
     "execution_count": 4,
     "metadata": {},
     "output_type": "execute_result"
    }
   ],
   "source": [
    "input_source"
   ]
  },
  {
   "cell_type": "code",
   "execution_count": 5,
   "id": "3f980edb",
   "metadata": {},
   "outputs": [
    {
     "name": "stdout",
     "output_type": "stream",
     "text": [
      "{'A': ['B', 'C'], 'B': ['D'], 'C': ['D', 'E'], 'D': ['F'], 'E': ['F'], 'F': []} A F\n"
     ]
    }
   ],
   "source": [
    "graph = ast.literal_eval(input_source[0])\n",
    "source = input_source[1].strip()\n",
    "destination = input_source[2].strip()\n",
    "\n",
    "\n",
    "print(graph, source, destination)"
   ]
  },
  {
   "cell_type": "code",
   "execution_count": 10,
   "id": "80eefd7c",
   "metadata": {},
   "outputs": [],
   "source": [
    "from collections import deque\n",
    "\n",
    "def BFS(graph, start):\n",
    "    # Initialization\n",
    "    color = {u: \"WHITE\" for u in graph}\n",
    "    distance = {u: float(\"inf\") for u in graph}\n",
    "    bfs_parent = {u: None for u in graph}\n",
    "\n",
    "    # Start node setup\n",
    "    color[start] = \"GRAY\"\n",
    "    distance[start] = 0\n",
    "    bfs_parent[start] = None\n",
    "\n",
    "    # Queue initialization\n",
    "    Q = deque()\n",
    "    Q.append(start)\n",
    "\n",
    "    # BFS loop\n",
    "    while Q:\n",
    "        u = Q.popleft()\n",
    "        for v in graph[u]:\n",
    "            if color[v] == \"WHITE\":\n",
    "                color[v] = \"GRAY\"\n",
    "                distance[v] = distance[u] + 1\n",
    "                bfs_parent[v] = u\n",
    "                Q.append(v)\n",
    "        color[u] = \"BLACK\"\n",
    "\n",
    "    return distance, bfs_parent\n"
   ]
  },
  {
   "cell_type": "code",
   "execution_count": 11,
   "id": "86c6e6f7",
   "metadata": {},
   "outputs": [],
   "source": [
    "def get_path(bfs_parent, start, goal):\n",
    "    path = []\n",
    "    node = goal\n",
    "    while node is not None:\n",
    "        path.append(node)\n",
    "        node = bfs_parent[node]\n",
    "    path.reverse()\n",
    "\n",
    "    if path[0] == start:\n",
    "        return path\n",
    "    else:\n",
    "        return None"
   ]
  },
  {
   "cell_type": "code",
   "execution_count": 12,
   "id": "c65ee06b",
   "metadata": {},
   "outputs": [],
   "source": [
    "def DFS(graph, start, goal):\n",
    "    visited = set()\n",
    "    dfs_parent = {u: None for u in graph}\n",
    "    found = [False]\n",
    "\n",
    "    def DFS_VISIT(u):\n",
    "        if found[0]:\n",
    "            return\n",
    "        visited.add(u)\n",
    "        if u == goal:\n",
    "            found[0] = True\n",
    "            return\n",
    "        # reverse to explore \"rightmost\" first → differs from BFS\n",
    "        for v in reversed(graph[u]):\n",
    "            if v not in visited:\n",
    "                dfs_parent[v] = u\n",
    "                DFS_VISIT(v)\n",
    "\n",
    "    DFS_VISIT(start)\n",
    "    return dfs_parent\n"
   ]
  },
  {
   "cell_type": "code",
   "execution_count": 13,
   "id": "eb322c6e",
   "metadata": {},
   "outputs": [],
   "source": [
    "def dfs_path(graph, start, goal):\n",
    "    dfs_parent = DFS(graph, start, goal)\n",
    "    path = []\n",
    "    node = goal\n",
    "    while node is not None:\n",
    "        path.append(node)\n",
    "        node = dfs_parent[node]\n",
    "    path.reverse()\n",
    "    return path if path and path[0] == start else None\n"
   ]
  },
  {
   "cell_type": "code",
   "execution_count": 14,
   "id": "cd488ac4",
   "metadata": {},
   "outputs": [
    {
     "name": "stdout",
     "output_type": "stream",
     "text": [
      "BFS Path: ['A', 'B', 'D', 'F']\n",
      "DFS Path: ['A', 'C', 'E', 'F']\n"
     ]
    }
   ],
   "source": [
    "distance, bfs_parent = BFS(graph, source)\n",
    "print(\"BFS Path:\", get_path(bfs_parent, source, destination))\n",
    "print(\"DFS Path:\", dfs_path(graph, source, destination))\n"
   ]
  },
  {
   "cell_type": "code",
   "execution_count": null,
   "id": "2a6b1969",
   "metadata": {},
   "outputs": [],
   "source": []
  }
 ],
 "metadata": {
  "kernelspec": {
   "display_name": "Python 3",
   "language": "python",
   "name": "python3"
  },
  "language_info": {
   "codemirror_mode": {
    "name": "ipython",
    "version": 3
   },
   "file_extension": ".py",
   "mimetype": "text/x-python",
   "name": "python",
   "nbconvert_exporter": "python",
   "pygments_lexer": "ipython3",
   "version": "3.12.5"
  }
 },
 "nbformat": 4,
 "nbformat_minor": 5
}
