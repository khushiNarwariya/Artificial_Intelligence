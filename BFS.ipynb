{
 "cells": [
  {
   "cell_type": "code",
   "execution_count": 2,
   "id": "445bbe4c",
   "metadata": {},
   "outputs": [
    {
     "name": "stdout",
     "output_type": "stream",
     "text": [
      "Distances: {'A': 0, 'B': 1, 'C': 1, 'D': 2, 'E': 2, 'F': 2}\n",
      "Parents: {'A': None, 'B': 'A', 'C': 'A', 'D': 'B', 'E': 'B', 'F': 'C'}\n"
     ]
    }
   ],
   "source": [
    "from collections import deque\n",
    "\n",
    "# Define your graph as an adjacency list\n",
    "graph = {\n",
    "    'A': ['B', 'C'],\n",
    "    'B': ['A', 'D', 'E'],\n",
    "    'C': ['A', 'F'],\n",
    "    'D': ['B'],\n",
    "    'E': ['B', 'F'],\n",
    "    'F': ['C', 'E']\n",
    "}\n",
    "\n",
    "def BFS(graph, start):\n",
    "    # Initialization\n",
    "    color = {u: \"WHITE\" for u in graph}\n",
    "    distance = {u: float(\"inf\") for u in graph}\n",
    "    parent = {u: None for u in graph}\n",
    "\n",
    "    # Start node setup\n",
    "    color[start] = \"GRAY\"\n",
    "    distance[start] = 0\n",
    "    parent[start] = None\n",
    "\n",
    "    # Queue initialization\n",
    "    Q = deque()\n",
    "    Q.append(start)\n",
    "\n",
    "    # BFS loop\n",
    "    while Q:\n",
    "        u = Q.popleft()\n",
    "        for v in graph[u]:\n",
    "            if color[v] == \"WHITE\":\n",
    "                color[v] = \"GRAY\"\n",
    "                distance[v] = distance[u] + 1\n",
    "                parent[v] = u\n",
    "                Q.append(v)\n",
    "        color[u] = \"BLACK\"\n",
    "\n",
    "    return distance, parent\n",
    "\n",
    "# Run BFS\n",
    "distance, parent = BFS(graph, 'A')\n",
    "\n",
    "print(\"Distances:\", distance)\n",
    "print(\"Parents:\", parent)\n"
   ]
  }
 ],
 "metadata": {
  "kernelspec": {
   "display_name": "Python 3",
   "language": "python",
   "name": "python3"
  },
  "language_info": {
   "codemirror_mode": {
    "name": "ipython",
    "version": 3
   },
   "file_extension": ".py",
   "mimetype": "text/x-python",
   "name": "python",
   "nbconvert_exporter": "python",
   "pygments_lexer": "ipython3",
   "version": "3.12.5"
  }
 },
 "nbformat": 4,
 "nbformat_minor": 5
}
